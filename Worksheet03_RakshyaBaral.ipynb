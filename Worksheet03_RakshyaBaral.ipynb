{
  "nbformat": 4,
  "nbformat_minor": 0,
  "metadata": {
    "colab": {
      "provenance": []
    },
    "kernelspec": {
      "name": "python3",
      "display_name": "Python 3"
    },
    "language_info": {
      "name": "python"
    }
  },
  "cells": [
    {
      "cell_type": "markdown",
      "source": [
        "3.1 Warm Up Exercises:\n",
        "1. Sorting and Subsetting:\n",
        "Complete all following Task:\n",
        "• Dataset for the Task: \"titanic.csv\"\n",
        "Following task is common for all the problem:\n",
        "1. Load the provided dataset and import in pandas DataFrame.\n",
        "2. Check info of the DataFrame and identify following:"
      ],
      "metadata": {
        "id": "jLn674hwvSUl"
      }
    },
    {
      "cell_type": "code",
      "source": [
        "#Rakshya Baral\n",
        "from google.colab import drive\n",
        "drive.mount('/content/drive')"
      ],
      "metadata": {
        "id": "46jxpr1kxwoB"
      },
      "execution_count": null,
      "outputs": []
    },
    {
      "cell_type": "code",
      "source": [
        "import pandas as pd\n",
        "titanic_data = pd.read_csv(\"/content/drive/MyDrive/Concepts and Technologies of AI./Titanic-Dataset.csv\")\n",
        "titanic_data.info()"
      ],
      "metadata": {
        "colab": {
          "base_uri": "https://localhost:8080/"
        },
        "id": "zZYkEQdGx4IC",
        "outputId": "ac1d49cd-19fb-4d3e-e844-0f3711d55629"
      },
      "execution_count": 4,
      "outputs": [
        {
          "output_type": "stream",
          "name": "stdout",
          "text": [
            "<class 'pandas.core.frame.DataFrame'>\n",
            "RangeIndex: 891 entries, 0 to 890\n",
            "Data columns (total 12 columns):\n",
            " #   Column       Non-Null Count  Dtype  \n",
            "---  ------       --------------  -----  \n",
            " 0   PassengerId  891 non-null    int64  \n",
            " 1   Survived     891 non-null    int64  \n",
            " 2   Pclass       891 non-null    int64  \n",
            " 3   Name         891 non-null    object \n",
            " 4   Sex          891 non-null    object \n",
            " 5   Age          714 non-null    float64\n",
            " 6   SibSp        891 non-null    int64  \n",
            " 7   Parch        891 non-null    int64  \n",
            " 8   Ticket       891 non-null    object \n",
            " 9   Fare         891 non-null    float64\n",
            " 10  Cabin        204 non-null    object \n",
            " 11  Embarked     889 non-null    object \n",
            "dtypes: float64(2), int64(5), object(5)\n",
            "memory usage: 83.7+ KB\n"
          ]
        }
      ]
    },
    {
      "cell_type": "markdown",
      "source": [
        "Problem 1 - Sorting:\n",
        "1. Create a DataFrame called fare that contains only the Fare column of the Titanic dataset. Print the\n",
        "head of the result.\n",
        "2. Create a DataFrame called class age that contains only the Pclass and Age columns of the Titanic\n",
        "dataset, in that order. Print the head of the result.\n",
        "3. Create a DataFrame called survived gender that contains the Survived and Sex columns of the\n",
        "Titanic dataset, in that order.Print the head of the result."
      ],
      "metadata": {
        "id": "u9mB5hoCzPET"
      }
    },
    {
      "cell_type": "code",
      "source": [
        "#1\n",
        "fare = titanic_data[['Fare']]\n",
        "print(fare.head())\n",
        "print(\"\\n\")\n",
        "#2\n",
        "class_age = titanic_data[['Pclass', 'Age']]\n",
        "print(class_age.head())\n",
        "print(\"\\n\")\n",
        "#3\n",
        "survived_gender = titanic_data[['Survived', 'Sex']]\n",
        "print(survived_gender.head())\n",
        "print(\"\\n\")"
      ],
      "metadata": {
        "colab": {
          "base_uri": "https://localhost:8080/"
        },
        "id": "pqX-vcpRzQ3p",
        "outputId": "fa325077-6980-42c2-cdd5-4443ea37174e"
      },
      "execution_count": 25,
      "outputs": [
        {
          "output_type": "stream",
          "name": "stdout",
          "text": [
            "      Fare\n",
            "0   7.2500\n",
            "1  71.2833\n",
            "2   7.9250\n",
            "3  53.1000\n",
            "4   8.0500\n",
            "\n",
            "\n",
            "   Pclass   Age\n",
            "0       3  22.0\n",
            "1       1  38.0\n",
            "2       3  26.0\n",
            "3       1  35.0\n",
            "4       3  35.0\n",
            "\n",
            "\n",
            "   Survived     Sex\n",
            "0         0    male\n",
            "1         1  female\n",
            "2         1  female\n",
            "3         1  female\n",
            "4         0    male\n",
            "\n",
            "\n"
          ]
        }
      ]
    },
    {
      "cell_type": "markdown",
      "source": [
        "Problem - 2 - Subsetting:\n",
        "Complete all the following Task:\n",
        "Subsetting Rows:\n",
        "1. Filter the Titanic dataset for cases where the passenger’s fare is greater than 100, assigning it\n",
        "to fare gt 100.View the printed result.\n",
        "2. Filter the Titanic dataset for cases where the passenger’s class (Pclass) is 1, assigning it to\n",
        "first class.View the printed result.\n",
        "3. Filter the Titanic dataset for cases where the passenger’s age is less than 18 and the passenger\n",
        "is female (Sex is \"female\"), assigning it to female under 18. View the printed result."
      ],
      "metadata": {
        "id": "iCKEyORpz7yq"
      }
    },
    {
      "cell_type": "code",
      "source": [
        "#1\n",
        "fare_greater_100 = titanic_data[titanic_data['Fare'] > 100]\n",
        "print(fare_greater_100.head())"
      ],
      "metadata": {
        "colab": {
          "base_uri": "https://localhost:8080/"
        },
        "id": "GgvCHSm40P2I",
        "outputId": "3c51a71b-b127-40cb-e42c-acbe67db6e5a"
      },
      "execution_count": 26,
      "outputs": [
        {
          "output_type": "stream",
          "name": "stdout",
          "text": [
            "     PassengerId  Survived  Pclass  \\\n",
            "27            28         0       1   \n",
            "31            32         1       1   \n",
            "88            89         1       1   \n",
            "118          119         0       1   \n",
            "195          196         1       1   \n",
            "\n",
            "                                               Name     Sex   Age  SibSp  \\\n",
            "27                   Fortune, Mr. Charles Alexander    male  19.0      3   \n",
            "31   Spencer, Mrs. William Augustus (Marie Eugenie)  female   NaN      1   \n",
            "88                       Fortune, Miss. Mabel Helen  female  23.0      3   \n",
            "118                        Baxter, Mr. Quigg Edmond    male  24.0      0   \n",
            "195                            Lurette, Miss. Elise  female  58.0      0   \n",
            "\n",
            "     Parch    Ticket      Fare        Cabin Embarked age_group  \n",
            "27       2     19950  263.0000  C23 C25 C27        S     adult  \n",
            "31       0  PC 17569  146.5208          B78        C    senior  \n",
            "88       2     19950  263.0000  C23 C25 C27        S     adult  \n",
            "118      1  PC 17558  247.5208      B58 B60        C     adult  \n",
            "195      0  PC 17569  146.5208          B80        C     adult  \n"
          ]
        }
      ]
    },
    {
      "cell_type": "code",
      "source": [
        "#2\n",
        "first_class = titanic_data[titanic_data['Pclass'] == 1]\n",
        "print(first_class.head())"
      ],
      "metadata": {
        "colab": {
          "base_uri": "https://localhost:8080/"
        },
        "id": "w3RYZR6z1AzW",
        "outputId": "87c10ac3-6610-4b70-f2a1-1fccc99e7a88"
      },
      "execution_count": 27,
      "outputs": [
        {
          "output_type": "stream",
          "name": "stdout",
          "text": [
            "    PassengerId  Survived  Pclass  \\\n",
            "1             2         1       1   \n",
            "3             4         1       1   \n",
            "6             7         0       1   \n",
            "11           12         1       1   \n",
            "23           24         1       1   \n",
            "\n",
            "                                                 Name     Sex   Age  SibSp  \\\n",
            "1   Cumings, Mrs. John Bradley (Florence Briggs Th...  female  38.0      1   \n",
            "3        Futrelle, Mrs. Jacques Heath (Lily May Peel)  female  35.0      1   \n",
            "6                             McCarthy, Mr. Timothy J    male  54.0      0   \n",
            "11                           Bonnell, Miss. Elizabeth  female  58.0      0   \n",
            "23                       Sloper, Mr. William Thompson    male  28.0      0   \n",
            "\n",
            "    Parch    Ticket     Fare Cabin Embarked age_group  \n",
            "1       0  PC 17599  71.2833   C85        C     adult  \n",
            "3       0    113803  53.1000  C123        S     adult  \n",
            "6       0     17463  51.8625   E46        S     adult  \n",
            "11      0    113783  26.5500  C103        S     adult  \n",
            "23      0    113788  35.5000    A6        S     adult  \n"
          ]
        }
      ]
    },
    {
      "cell_type": "code",
      "source": [
        "#3\n",
        "female_under_18 = titanic_data[(titanic_data['Age'] < 18) & (titanic_data['Sex'] == 'female')]\n",
        "print(female_under_18.head())"
      ],
      "metadata": {
        "colab": {
          "base_uri": "https://localhost:8080/"
        },
        "id": "lCTExZWD1QL-",
        "outputId": "ff0d9832-74c2-4c41-d750-d7aa97acdadc"
      },
      "execution_count": 28,
      "outputs": [
        {
          "output_type": "stream",
          "name": "stdout",
          "text": [
            "    PassengerId  Survived  Pclass                                  Name  \\\n",
            "9            10         1       2   Nasser, Mrs. Nicholas (Adele Achem)   \n",
            "10           11         1       3       Sandstrom, Miss. Marguerite Rut   \n",
            "14           15         0       3  Vestrom, Miss. Hulda Amanda Adolfina   \n",
            "22           23         1       3           McGowan, Miss. Anna \"Annie\"   \n",
            "24           25         0       3         Palsson, Miss. Torborg Danira   \n",
            "\n",
            "       Sex   Age  SibSp  Parch   Ticket     Fare Cabin Embarked age_group  \n",
            "9   female  14.0      1      0   237736  30.0708   NaN        C     child  \n",
            "10  female   4.0      1      1  PP 9549  16.7000    G6        S     child  \n",
            "14  female  14.0      0      0   350406   7.8542   NaN        S     child  \n",
            "22  female  15.0      0      0   330923   8.0292   NaN        Q     child  \n",
            "24  female   8.0      3      1   349909  21.0750   NaN        S     child  \n"
          ]
        }
      ]
    },
    {
      "cell_type": "markdown",
      "source": [
        "Subsetting Rows by Categorical variables:\n",
        "1. Filter the Titanic dataset for passengers whose Embarked port is either \"C\" (Cherbourg) or \"S\"\n",
        "(Southampton), assigning the result to embarked c or s. View the printed result.\n",
        "2. Filter the Titanic dataset for passengers whose Pclass is in the list [1, 2] (indicating first\n",
        "or second class), assigning the result to first second class.View the printed result."
      ],
      "metadata": {
        "id": "4ddmLdTf1xlO"
      }
    },
    {
      "cell_type": "code",
      "source": [
        "#1\n",
        "embarked_c_or_s = titanic_data[titanic_data['Embarked'].isin(['C', 'S'])]\n",
        "print(embarked_c_or_s.head())\n"
      ],
      "metadata": {
        "colab": {
          "base_uri": "https://localhost:8080/"
        },
        "id": "o09xXecp541z",
        "outputId": "dbae6113-4eba-4b6e-db8c-71d77acc2c3e"
      },
      "execution_count": 29,
      "outputs": [
        {
          "output_type": "stream",
          "name": "stdout",
          "text": [
            "   PassengerId  Survived  Pclass  \\\n",
            "0            1         0       3   \n",
            "1            2         1       1   \n",
            "2            3         1       3   \n",
            "3            4         1       1   \n",
            "4            5         0       3   \n",
            "\n",
            "                                                Name     Sex   Age  SibSp  \\\n",
            "0                            Braund, Mr. Owen Harris    male  22.0      1   \n",
            "1  Cumings, Mrs. John Bradley (Florence Briggs Th...  female  38.0      1   \n",
            "2                             Heikkinen, Miss. Laina  female  26.0      0   \n",
            "3       Futrelle, Mrs. Jacques Heath (Lily May Peel)  female  35.0      1   \n",
            "4                           Allen, Mr. William Henry    male  35.0      0   \n",
            "\n",
            "   Parch            Ticket     Fare Cabin Embarked age_group  \n",
            "0      0         A/5 21171   7.2500   NaN        S     adult  \n",
            "1      0          PC 17599  71.2833   C85        C     adult  \n",
            "2      0  STON/O2. 3101282   7.9250   NaN        S     adult  \n",
            "3      0            113803  53.1000  C123        S     adult  \n",
            "4      0            373450   8.0500   NaN        S     adult  \n"
          ]
        }
      ]
    },
    {
      "cell_type": "code",
      "source": [
        "#2\n",
        "first_second_class = titanic_data[titanic_data['Pclass'].isin([1, 2])]\n",
        "print(first_second_class.head())\n"
      ],
      "metadata": {
        "colab": {
          "base_uri": "https://localhost:8080/"
        },
        "id": "r1TYQp_v9nQ_",
        "outputId": "91695fec-2c09-4d94-c4a4-ec0232483e2b"
      },
      "execution_count": 15,
      "outputs": [
        {
          "output_type": "stream",
          "name": "stdout",
          "text": [
            "    PassengerId  Survived  Pclass  \\\n",
            "1             2         1       1   \n",
            "3             4         1       1   \n",
            "6             7         0       1   \n",
            "9            10         1       2   \n",
            "11           12         1       1   \n",
            "\n",
            "                                                 Name     Sex   Age  SibSp  \\\n",
            "1   Cumings, Mrs. John Bradley (Florence Briggs Th...  female  38.0      1   \n",
            "3        Futrelle, Mrs. Jacques Heath (Lily May Peel)  female  35.0      1   \n",
            "6                             McCarthy, Mr. Timothy J    male  54.0      0   \n",
            "9                 Nasser, Mrs. Nicholas (Adele Achem)  female  14.0      1   \n",
            "11                           Bonnell, Miss. Elizabeth  female  58.0      0   \n",
            "\n",
            "    Parch    Ticket     Fare Cabin Embarked  \n",
            "1       0  PC 17599  71.2833   C85        C  \n",
            "3       0    113803  53.1000  C123        S  \n",
            "6       0     17463  51.8625   E46        S  \n",
            "9       0    237736  30.0708   NaN        C  \n",
            "11      0    113783  26.5500  C103        S  \n"
          ]
        }
      ]
    },
    {
      "cell_type": "markdown",
      "source": [
        "3.2 Exploratory Data Analysis Practice Exercise - 1.\n",
        "Warning: Handle missing values in the Age column by filling them with the median age of\n",
        "\n",
        "the dataset before performing the division.)\n",
        "\n",
        "Answer the following questions from Dataset:\n",
        "Which passenger had the highest fare paid relative to their age?\n",
        "To answer the question perform following operations:\n",
        "1. Add a column to the Titanic dataset, fare per year, containing the fare divided by the age of\n",
        "the passenger(i.e., Fare/Age).\n",
        "2. Subset rows where fare per year is higher than 5, assigning this to high fare age.\n",
        "3. Sort high fare age by descending fare per year, assigning this to high fare age srt.\n",
        "4. Select only the Name and fare per year columns of high fare age srt and save the result as result.\n",
        "5. Look at the result."
      ],
      "metadata": {
        "id": "WbxOAhKw-e3E"
      }
    },
    {
      "cell_type": "code",
      "source": [
        "import pandas as pd\n",
        "titanic_data = pd.read_csv(\"/content/drive/MyDrive/Concepts and Technologies of AI./Titanic-Dataset.csv\")\n",
        "median_age = titanic_data['Age'].median()\n",
        "titanic_data['Age'] = titanic_data['Age'].fillna(median_age)\n",
        "titanic_data['fare_per_year'] = titanic_data['Fare'] / titanic_data['Age']\n",
        "high_fare_age = titanic_data[titanic_data['fare_per_year'] > 5]\n",
        "high_fare_age_srt = high_fare_age.sort_values(by='fare_per_year', ascending=False)\n",
        "result = high_fare_age_srt[['Name', 'fare_per_year']]\n",
        "print(\"\\nPassengers with the highest fare per year:\")\n",
        "print(result.head())"
      ],
      "metadata": {
        "colab": {
          "base_uri": "https://localhost:8080/"
        },
        "id": "FxShNWcg-mPn",
        "outputId": "21e92247-6851-48de-80a9-84901c892971"
      },
      "execution_count": 20,
      "outputs": [
        {
          "output_type": "stream",
          "name": "stdout",
          "text": [
            "\n",
            "Passengers with the highest fare per year:\n",
            "                                Name  fare_per_year\n",
            "305   Allison, Master. Hudson Trevor     164.728261\n",
            "297     Allison, Miss. Helen Loraine      75.775000\n",
            "386  Goodwin, Master. Sidney Leonard      46.900000\n",
            "164     Panula, Master. Eino Viljami      39.687500\n",
            "183        Becker, Master. Richard F      39.000000\n"
          ]
        }
      ]
    },
    {
      "cell_type": "markdown",
      "source": [
        "Which adult male passenger (age ≥ 18 and Sex is ’male’) paid the highest fare relative to their\n",
        "class?\n",
        "To answer the question perform following operations:\n",
        "1. Add a column to the Titanic dataset, fare per class, containing the fare divided by the passenger\n",
        "class i.e. Fare / Pclass.\n",
        "2. Subset rows where the passenger is male (Sex is ”male”) and an adult (Age is greater than or equal\n",
        "to 18), assigning this to adult males.\n",
        "3. Sort adult males by descending fare per class, assigning this to adult males srt.\n",
        "4. Select only the Name, Age, and fare per class columns of adult males sr and save the result\n",
        "as result.\n",
        "5. Look at the result."
      ],
      "metadata": {
        "id": "5QZ2uzDHA8BS"
      }
    },
    {
      "cell_type": "code",
      "source": [
        "import pandas as pd\n",
        "titanic_data = pd.read_csv(\"/content/drive/MyDrive/Concepts and Technologies of AI./Titanic-Dataset.csv\")\n",
        "titanic_data['fare_per_class'] = titanic_data['Fare'] / titanic_data['Pclass']\n",
        "adult_males = titanic_data[(titanic_data['Sex'] == 'male') & (titanic_data['Age'] >= 18)]\n",
        "adult_males_srt = adult_males.sort_values(by='fare_per_class', ascending=False)\n",
        "result = adult_males_srt[['Name', 'Age', 'fare_per_class']]\n",
        "print(\"\\nAdult males with the highest fare per class:\")\n",
        "print(result.head())\n"
      ],
      "metadata": {
        "colab": {
          "base_uri": "https://localhost:8080/"
        },
        "id": "3YhnLuJnA8qo",
        "outputId": "81fd05b1-7e54-4fa0-f9fe-7603b5f75337"
      },
      "execution_count": 21,
      "outputs": [
        {
          "output_type": "stream",
          "name": "stdout",
          "text": [
            "\n",
            "Adult males with the highest fare per class:\n",
            "                                   Name   Age  fare_per_class\n",
            "737              Lesurer, Mr. Gustave J  35.0        512.3292\n",
            "679  Cardeza, Mr. Thomas Drake Martinez  36.0        512.3292\n",
            "27       Fortune, Mr. Charles Alexander  19.0        263.0000\n",
            "438                   Fortune, Mr. Mark  64.0        263.0000\n",
            "118            Baxter, Mr. Quigg Edmond  24.0        247.5208\n"
          ]
        }
      ]
    },
    {
      "cell_type": "markdown",
      "source": [
        "3.3 Exploratory Data Analysis with Group-by Method Practice Exercise:\n",
        "Based on the dataset Answer the following question:\n",
        "What percent of the total fare revenue came from each passenger class?\n",
        "To answer the question perform following operation:\n",
        "1. Calculate the total Fare paid across all passengers in the Titanic dataset.\n",
        "2. Subset for passengers in first class (Pclass is 1) and calculate their total fare.\n",
        "3. Do the same for second class (Pclass is 2) and third class (Pclass is 3).\n",
        "4. Combine the fare totals from first, second, and third classes into a list.\n",
        "5. Divide the totals for each class by the overall total fare to get the proportion of fare revenue by class."
      ],
      "metadata": {
        "id": "fmrx847tBl-s"
      }
    },
    {
      "cell_type": "code",
      "source": [
        "import pandas as pd\n",
        "titanic_data = pd.read_csv(\"/content/drive/MyDrive/Concepts and Technologies of AI./Titanic-Dataset.csv\")\n",
        "total_fare = titanic_data['Fare'].sum()\n",
        "print(f\"Total fare across all passengers: {total_fare}\")\n",
        "first_class_fare = titanic_data[titanic_data['Pclass'] == 1]['Fare'].sum()\n",
        "second_class_fare = titanic_data[titanic_data['Pclass'] == 2]['Fare'].sum()\n",
        "third_class_fare = titanic_data[titanic_data['Pclass'] == 3]['Fare'].sum()\n",
        "fare_totals_by_class = [first_class_fare, second_class_fare, third_class_fare]\n",
        "print(\"\\nFare totals by class:\")\n",
        "print(f\"First class: {first_class_fare}, Second class: {second_class_fare}, Third class: {third_class_fare}\")\n",
        "proportion_of_fare_by_class = [fare / total_fare for fare in fare_totals_by_class]\n",
        "percentage_of_fare_by_class = [prop * 100 for prop in proportion_of_fare_by_class]\n",
        "print(\"\\nPercentage of total fare revenue by passenger class:\")\n",
        "print(f\"First class: {percentage_of_fare_by_class[0]:.2f}%\")\n",
        "print(f\"Second class: {percentage_of_fare_by_class[1]:.2f}%\")\n",
        "print(f\"Third class: {percentage_of_fare_by_class[2]:.2f}%\")\n"
      ],
      "metadata": {
        "colab": {
          "base_uri": "https://localhost:8080/"
        },
        "id": "DiQHYY8cBngM",
        "outputId": "2c566ee9-0da6-44fb-ce03-bd432ca78bb4"
      },
      "execution_count": 22,
      "outputs": [
        {
          "output_type": "stream",
          "name": "stdout",
          "text": [
            "Total fare across all passengers: 28693.9493\n",
            "\n",
            "Fare totals by class:\n",
            "First class: 18177.4125, Second class: 3801.8417, Third class: 6714.6951\n",
            "\n",
            "Percentage of total fare revenue by passenger class:\n",
            "First class: 63.35%\n",
            "Second class: 13.25%\n",
            "Third class: 23.40%\n"
          ]
        }
      ]
    },
    {
      "cell_type": "markdown",
      "source": [
        "What percent of the total number of passengers on the Titanic belonged to each age group\n",
        "(e.g., child, adult, senior)?\n",
        "To answer the question perform following operation:\n",
        "1. Create a new column, age group, that categorizes passengers into \"child\" (age < 18), \"adult\" (age\n",
        "18{64), and \"senior\" (age 65 and above).\n",
        "2. Calculate the total number of passengers on the Titanic.\n",
        "3. Count the number of passengers in each age group.\n",
        "4. Divide the count of each age group by the total number of passengers to get the proportion of passengers\n",
        "in each age group.\n",
        "5. Display the proportion as a percentage."
      ],
      "metadata": {
        "id": "dRMl9aI4B959"
      }
    },
    {
      "cell_type": "code",
      "source": [
        "def categorize_age(age):\n",
        "    if age < 18:\n",
        "        return 'child'\n",
        "    elif age < 65:\n",
        "        return 'adult'\n",
        "    else:\n",
        "        return 'senior'\n",
        "\n",
        "titanic_data['age_group'] = titanic_data['Age'].apply(categorize_age)\n",
        "total_passengers = len(titanic_data)\n",
        "print(f\"Total number of passengers on the Titanic: {total_passengers}\")\n",
        "age_group_counts = titanic_data['age_group'].value_counts()\n",
        "age_group_proportion = (age_group_counts / total_passengers) * 100\n",
        "print(\"\\nPercentage of passengers in each age group:\")\n",
        "print(age_group_proportion)\n"
      ],
      "metadata": {
        "colab": {
          "base_uri": "https://localhost:8080/"
        },
        "id": "kG3OwBm6CCme",
        "outputId": "47676cb2-2d22-4af0-ff73-d508efa512eb"
      },
      "execution_count": 24,
      "outputs": [
        {
          "output_type": "stream",
          "name": "stdout",
          "text": [
            "Total number of passengers on the Titanic: 891\n",
            "\n",
            "Percentage of passengers in each age group:\n",
            "age_group\n",
            "adult     66.217733\n",
            "senior    21.099888\n",
            "child     12.682379\n",
            "Name: count, dtype: float64\n"
          ]
        }
      ]
    }
  ]
}